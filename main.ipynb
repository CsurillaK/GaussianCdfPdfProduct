{
 "cells": [
  {
   "cell_type": "markdown",
   "id": "23fa28e4-f022-439f-8500-78d893ee89a2",
   "metadata": {},
   "source": [
    "# Symbolic calculation"
   ]
  },
  {
   "cell_type": "code",
   "execution_count": null,
   "id": "744ce9ed-f213-408b-b0fa-d9df04f151fc",
   "metadata": {},
   "outputs": [],
   "source": [
    "import sympy\n",
    "import sympy.stats"
   ]
  },
  {
   "cell_type": "code",
   "execution_count": null,
   "id": "645922a9-e70d-4c99-b5c8-d44e91ccc083",
   "metadata": {},
   "outputs": [],
   "source": [
    "x = sympy.Symbol(\"x\", real=True)\n",
    "t = sympy.Symbol(\"t\", real=True)\n",
    "m1 = sympy.Symbol(\"m1\", real=True)\n",
    "m2 = sympy.Symbol(\"m2\", real=True)\n",
    "s1 = sympy.Symbol(\"s1\", positive=True)\n",
    "s2 = sympy.Symbol(\"s2\", positive=True)\n",
    "\n",
    "pdf = sympy.stats.Normal(\"pdf\", m1, s1)\n",
    "cdf = sympy.stats.Normal(\"cdf\", m2, s2)\n",
    "norm = sympy.stats.Normal(\"norm\", sympy.stats.E(cdf), sympy.stats.std(pdf + cdf))\n",
    "\n",
    "p = sympy.simplify(sympy.stats.density(pdf)(x) * sympy.stats.cdf(cdf)(x) / sympy.stats.cdf(norm)(m1))\n",
    "\n",
    "d_log_p = sympy.simplify(sympy.diff(sympy.log(p), x))\n",
    "dd_log_p = sympy.simplify(sympy.diff(d_log_p, x))\n",
    "mean_update = sympy.simplify(x - d_log_p / dd_log_p) # One step Newton's method\n",
    "approximate_variance = sympy.simplify((-dd_log_p)**-0.5);\n",
    "\n",
    "lambdas = dict()\n",
    "lambdas[\"p\"] = sympy.lambdify([x, m1, s1, m2, s2], p, \"math\")\n",
    "lambdas[\"mean_update\"] = sympy.lambdify([x, m1, s1, m2, s2], mean_update, \"math\")\n",
    "lambdas[\"approximate_variance\"] = sympy.lambdify([x, m1, s1, m2, s2], approximate_variance, \"math\")"
   ]
  },
  {
   "cell_type": "markdown",
   "id": "701f81b8-e9b0-4bee-9e7b-d80a30b94c74",
   "metadata": {},
   "source": [
    "# Visualization"
   ]
  },
  {
   "cell_type": "code",
   "execution_count": null,
   "id": "567af560-71c5-47b5-8913-069f6f763a34",
   "metadata": {},
   "outputs": [],
   "source": [
    "import ipywidgets\n",
    "import numpy\n",
    "import scipy, scipy.stats\n",
    "import math\n",
    "import matplotlib.pyplot as plt\n",
    "%matplotlib ipympl"
   ]
  },
  {
   "cell_type": "code",
   "execution_count": null,
   "id": "8e9db31d-1383-4c49-adcd-00b8ec87f4fa",
   "metadata": {},
   "outputs": [],
   "source": [
    "sample_points = numpy.linspace(-1, 1, 200)\n",
    "plt.close()\n",
    "plt.figure(figsize=(10, 6))\n",
    "continuous_update = True\n",
    "@ipywidgets.interact(\n",
    "    sample_points=ipywidgets.fixed(sample_points),\n",
    "    lambdas=ipywidgets.fixed(lambdas),\n",
    "    m1=ipywidgets.FloatSlider(min=-1.0, max=1.0, value=0.0, step=0.01, continuous_update=continuous_update),\n",
    "    s1=ipywidgets.FloatSlider(min=0.1, max=2, value=1.0, step=0.01, continuous_update=continuous_update), \n",
    "    m2=ipywidgets.FloatSlider(min=-1.0, max=1.0, value=0.0, step=0.01, continuous_update=continuous_update), \n",
    "    s2=ipywidgets.FloatSlider(min=0.1, max=2, value=1.0, step=0.01, continuous_update=continuous_update))\n",
    "def interactive_plot(sample_points, lambdas, m1, s1, m2, s2):\n",
    "    # pdf_ = numpy.array([lambdas[\"pdf\"](sample_point, m1, s1) for sample_point in sample_points])\n",
    "    # cdf_ = numpy.array([lambdas[\"cdf\"](sample_point, m2, s2) for sample_point in sample_points])\n",
    "    # p_ = numpy.array([lambdas[\"p\"](sample_point, m1, s1, m2, s2) for sample_point in sample_points])\n",
    "    pdf_ = scipy.stats.norm(m1, s1).pdf(sample_points)\n",
    "    cdf_ = scipy.stats.norm(m2, s2).cdf(sample_points)\n",
    "    p_ = pdf_ * cdf_ / scipy.stats.norm(m2, math.sqrt(s1*s1 + s2*s2)).cdf(m1)\n",
    "    plt.cla()\n",
    "    plt.plot(sample_points, pdf_, \"r\", linewidth=1, label=\"PDF\")\n",
    "    plt.plot(sample_points, cdf_, \"b\", linewidth=1, label=\"CDF\")\n",
    "    plt.plot(sample_points, p_, \"k\", linewidth=2, label=\"Product\")\n",
    "    plt.tight_layout()\n",
    "    plt.gca().set_xlim([-1, 1])\n",
    "    plt.gca().set_ylim(bottom=0)\n",
    "    plt.legend(loc=\"upper left\")\n",
    "\n",
    "    # Mean update\n",
    "    mean_update_pdf = lambdas[\"mean_update\"](m1, m1, s1, m2, s2)\n",
    "    mean_update_cdf = lambdas[\"mean_update\"](m2, m1, s1, m2, s2)\n",
    "    value_update_pdf = lambdas[\"p\"](mean_update_pdf, m1, s1, m2, s2)\n",
    "    value_update_cdf = lambdas[\"p\"](mean_update_cdf, m1, s1, m2, s2)\n",
    "    if value_update_pdf > value_update_cdf:\n",
    "        line_mean = mean_update_pdf\n",
    "        line_mean_value = value_update_pdf\n",
    "        line_mean_color = \"r\"\n",
    "    else:\n",
    "        line_mean = mean_update_cdf\n",
    "        line_mean_value = value_update_cdf\n",
    "        line_mean_color = \"b\"\n",
    "    plt.axvline(x=line_mean, color=line_mean_color, linestyle=\"--\")\n",
    "    variance = lambdas[\"approximate_variance\"](line_mean, m1, s1, m2, s2)\n",
    "    plt.text(line_mean, line_mean_value, f\"Mean: {line_mean:.4f}\\nVariance: {variance:.4f}\", color=line_mean_color, fontsize=14, horizontalalignment=\"left\", verticalalignment=\"bottom\")\n",
    "\n",
    "    plt.show()"
   ]
  },
  {
   "cell_type": "code",
   "execution_count": null,
   "id": "78d394d3-b839-4e46-b625-40202a0dbbd8",
   "metadata": {},
   "outputs": [],
   "source": []
  }
 ],
 "metadata": {
  "kernelspec": {
   "display_name": "Python 3 (ipykernel)",
   "language": "python",
   "name": "python3"
  },
  "language_info": {
   "codemirror_mode": {
    "name": "ipython",
    "version": 3
   },
   "file_extension": ".py",
   "mimetype": "text/x-python",
   "name": "python",
   "nbconvert_exporter": "python",
   "pygments_lexer": "ipython3",
   "version": "3.10.7"
  },
  "widgets": {
   "application/vnd.jupyter.widget-state+json": {
    "state": {},
    "version_major": 2,
    "version_minor": 0
   }
  }
 },
 "nbformat": 4,
 "nbformat_minor": 5
}
